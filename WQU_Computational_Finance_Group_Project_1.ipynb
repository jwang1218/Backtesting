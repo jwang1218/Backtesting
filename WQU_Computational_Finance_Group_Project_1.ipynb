{
  "nbformat": 4,
  "nbformat_minor": 0,
  "metadata": {
    "colab": {
      "name": "WQU Computational Finance Group Project 1.ipynb",
      "provenance": [],
      "collapsed_sections": [],
      "include_colab_link": true
    },
    "kernelspec": {
      "name": "python3",
      "display_name": "Python 3"
    }
  },
  "cells": [
    {
      "cell_type": "markdown",
      "metadata": {
        "id": "view-in-github",
        "colab_type": "text"
      },
      "source": [
        "<a href=\"https://colab.research.google.com/github/jwang1218/Backtesting/blob/master/WQU_Computational_Finance_Group_Project_1.ipynb\" target=\"_parent\"><img src=\"https://colab.research.google.com/assets/colab-badge.svg\" alt=\"Open In Colab\"/></a>"
      ]
    },
    {
      "cell_type": "markdown",
      "metadata": {
        "id": "3X988tjzNF7A",
        "colab_type": "text"
      },
      "source": [
        "# WQU MScFE 630 Computational Finance (19/09) \n",
        "## Group Project 1: Pricing European up-and-out call option with risky counterpart\n"
      ]
    },
    {
      "cell_type": "markdown",
      "metadata": {
        "id": "eaC-_Cvu8R0m",
        "colab_type": "text"
      },
      "source": [
        "## Abstract\n",
        "\n"
      ]
    },
    {
      "cell_type": "markdown",
      "metadata": {
        "id": "_TZG5SFH8L1v",
        "colab_type": "text"
      },
      "source": [
        "## Introduction\n",
        "\n",
        "### Knockout option\n",
        "\n",
        "A European up-and-out call option is a knock-out barrier options are options that are created or cease to exist when the price of the underlying asset reaches or violates a predefined price level within a certain period of time. Knock-in options come into existence when the price of the underlying asset reaches or breaches a specific price level, while the cease-out options (ie are eliminated) when the asset price reaches or violates a price level . The fundamental reason for using these types of options is to reduce the cost of hedging or speculation.(Marek Musiela, and Marek Rutkowski). We will be looking at knockout barrier options.\n",
        "\n",
        "![Barrier Option](https://drive.google.com/uc?id=1raQenR5yQFqjk0Kfs1FnGmSUYKykA5h0)\n",
        "\n",
        "\n",
        "Payoff of a European up-and-out call option at maturity $T$:\n",
        "\n",
        "\\begin{equation}\n",
        "v(S_T) = (S_T-K)^+ \\qquad \\text{given} \\qquad \\max_{{t \\in [0,T]}}(S-t) < L\n",
        "\\end{equation}"
      ]
    },
    {
      "cell_type": "markdown",
      "metadata": {
        "id": "jv_kPQWFbTGE",
        "colab_type": "text"
      },
      "source": [
        "Expected payoffs of in and out barrier options can be calculated by using a restricted density function instead of a unrestricted density function compared to vanilla options. Using risk-neutral evaluation relationship we can obtain the price of barrier options by discounting their expected payoffs at risk-free rate $r$. (Zhang)"
      ]
    },
    {
      "cell_type": "markdown",
      "metadata": {
        "id": "1VAYZCNoZ6ej",
        "colab_type": "text"
      },
      "source": [
        "## 2 Theoretical underpinning for stochastic risk factors:\n",
        "Assuming that stock price $S_t$ and counterparty firm asset value $A_t$ are governed by Geometric Brownian Motion (GBM) processes. The joint process is multivariate normal with a correlation $\\rho$, which is given by a constant value of $0.2$. The equations for $S_t$ and $A_t$ are given as follows:\n",
        "\n",
        "$\n",
        "\\begin{align*}\n",
        "dS_t = S_t (\\alpha_S dt + \\sigma_S  dW_S) \\tag{eq 1}\n",
        "\\end{align*} \n",
        "$\n",
        "\n",
        "$\n",
        "\\begin{align*}\n",
        "dA_t = A_t (\\alpha_A dt + \\sigma_A dW_A) \\tag{eq 2} \n",
        "\\end{align*} \n",
        "$\n",
        "\n",
        "where;\n",
        "\\begin{align*}\n",
        "< dW_S, dW_A > = \\rho dt   \n",
        "\\end{align*} \n",
        "\n",
        "$\\rho$ is the correlation between stock and counterparty firm value  \n",
        "$W_S$ is the Weiner process (normal random variable) for the stock price    \n",
        "$W_A$ is the Weiner process (normal random variable) for the counterparty firm asset value \n"
      ]
    },
    {
      "cell_type": "markdown",
      "metadata": {
        "id": "HjBO3HOv79Yw",
        "colab_type": "text"
      },
      "source": [
        "### 2.1 Notation as follows:\n",
        "We will assume that both the stock and counterparty firm values follow Geometric Brownian Motion with constant drift and volatilities, and default occuring at maturity.\n",
        "\n",
        "* Maturity of the option is in a year’s time  $T= 1$\n",
        "* Option is struck at-the-money $ATM$\n",
        "* Up-and-out barrier for the option  $ L = 150$\n",
        "* Current share price is $S_0 = 100 $\n",
        "* Risk-free continuously compounded interest rate $ r =0.08$\n",
        "* Volatility for the underlying $\\sigma_\n",
        "S = 0.30$\n",
        "* Volatility for the counterparty’s firm value is $\\sigma_{A} = 0.25$ \n",
        "* Counterparty’s debt, due in one year, is $D = \\$175$ \n",
        "* Correlation between the counterparty and the stock is constant at $ \\rho = 0.2$ \n",
        "* Recovery rate with the counterparty is $\\delta = \n",
        "25\\%$. "
      ]
    },
    {
      "cell_type": "markdown",
      "metadata": {
        "id": "Zgq25Z9xOoK6",
        "colab_type": "text"
      },
      "source": [
        "### 2.2 Initial Asset Value $A_0$\n",
        "\n",
        "$Merton ^{CN, 2,22,16, 3, 4, 21}$ proposed a model for assesing structural credit risk of a company by modeling the company's equity as a call option on its assets. Adding on to the Black-Scholes-Merton option pricing methods, Merton's model provides a structural relationship between default risk and the captial structure of the firm. \n",
        "\n",
        "A company balance sheet records book values—the value of a firm's equity E, its total assets $A$, and its total liabilities $D$. The relationship between these values is defined by the equation:\n",
        "\n",
        "<br/>\n",
        "$\n",
        "   \\begin{align*}\n",
        "   A = E + D \\tag{eq 3}\n",
        "   \\end{align*}\n",
        "$\n",
        "<br/>\n",
        "<br/>\n",
        "These book values for $E, A, \\text{and } D$ are all observable because they are recorded on a firm's balance sheet. However, the book values are reported infrequently. Alternatively, only the equity’s market value is observable, and is given by the firm’s stock market price times the number of outstanding shares. The market value of the firm’s assets and total liabilities are unobservable."
      ]
    },
    {
      "cell_type": "markdown",
      "metadata": {
        "id": "CMnq9BDfW0s_",
        "colab_type": "text"
      },
      "source": [
        "#### Non-Linear $A_0$ (optional)\n",
        "\n",
        "The Merton model relates the market values of equity, assets, and liabilities in an option pricing framework. The Merton model assumes a single liability $L$ with maturity $T$, usually a period of one year or less. At time $T$, the firm’s value to the shareholders equals the difference $A – L$ when the asset value A is greater than the liabilities L. However, if the liabilities $L$ exceed the asset value $A$, then the shareholders get nothing. The value of the equity  $𝐸_𝑇$  at time $T$ is related to the value of the assets and liabilities by the following formula:\n",
        "<br/>\n",
        "$\n",
        "   \\begin{align*}\n",
        "   E_T = \\max(A_T - D, 0) \\tag{eq 4}\n",
        "   \\end{align*}\n",
        "$\n",
        "<br/>\n",
        "Since firns have multiple liabilities, for selected maturity $T$, a liability threshold $L$ is chosen based on the whole liability structure of the firm. The liability threshold is also referred to as the default point. For a typical time horizon of one year, the liability threshold is commonly set to a value between the value of the short-term liabilities and the value of the total liabilities.\n",
        "\n",
        "\n",
        "\n",
        "Assuming a lognormal distribution for the asset returns, you can use the Black-Scholes-Merton equations to relate the observable market value of equity $E$, and the unobservable market value of assets $A$, at any time prior to the maturity $T$.  It can be shown that $^{2, 22, 12, 13, 16}$:\n",
        "\n",
        "$\n",
        "   \\begin{align*}\n",
        "   E_t  =  A\\,\\Phi(d_1) - D \\, \\exp(-rt) \\, \\Phi(d_2)                       \\tag{eq 5}\n",
        "   \\end{align*}\n",
        "$  \n",
        "\n",
        "In this equation, $r$ is the risk-free interest rate, $\\Phi$ is the cumulative standard normal distribution, and $d_1$ and $d_2$ are given by:\n",
        "\n",
        "<br/>\n",
        "$\n",
        "   \\begin{align*}\n",
        "   d_1  =  \\dfrac{\\ln ( \\dfrac{A}{D}) + (r + \\dfrac{\\sigma_A^2}{2})} {\\sigma_A\\,\\sqrt{T}}  \\tag{eq 6}\n",
        "   \\end{align*}\n",
        "$ \n",
        "<br/>\n",
        "<br/>\n",
        "$\n",
        "   \\begin{align*}\n",
        "   d_2  =  d_1 - \\sigma_A\\,\\sqrt{T}  \\tag{eq 7}\n",
        "   \\end{align*}\n",
        "$ \n",
        "\n",
        "<br/>\n",
        "<br/>\n",
        "\n",
        "*Equations (5), (6) and (7)* are of nonlinear equations.\n",
        "\n",
        "Using *equation (5)*, and Ito's Lemma, one can relate $\\sigma_E$ to $\\sigma_A$ and $S_0$.  It is given by ^{2, 22, 12, 13, 16}\n",
        "\n",
        "$\n",
        "\\begin{align*}\n",
        "   A_0  =  \\dfrac{S_0 \\,\\sigma_S}{\\Phi(d_1)\\, \\sigma_A}  \\tag{eq 8}\n",
        "\\end{align*}\n",
        "$\n",
        "\n",
        "Solving non-linear equations 6, 7, 8, simultaneously, results in $A_0$ = 261.54 while assuming that $\\sigma_A$ is fixed at 25% gives $A_0$ = 307.02 (see attached Excel spreadsheet, \"merton-to-get-A0.xlsx\"). $307.02 will be used. "
      ]
    },
    {
      "cell_type": "markdown",
      "metadata": {
        "id": "XTG5LqTa6z7I",
        "colab_type": "text"
      },
      "source": [
        "## 3. Barrier option pricing and numerical Implementation--Monte Carlo methodology:\n",
        "\n",
        "The payoff of a simple European or American-style call or put option depends only on the value of the asset, not on the path taken to get there.  This is a property known as path independence.  In a Barrier call or put option, the payoff is path dependent.  Not only does it depend on the final asset value $S_T$ but it also depends on whether a certain barrier level $L$ was touched (or not touched) at some time during the life of the option $T$.\n",
        "\n",
        "\n",
        "\n",
        "\n"
      ]
    },
    {
      "cell_type": "markdown",
      "metadata": {
        "id": "wukBtwW5vzuB",
        "colab_type": "text"
      },
      "source": [
        "### 3.1 An up-and-out Barrier Option (UOB) pricing\n",
        "\n",
        "For this option, at initiation, the underlying asset $S_0$ is below the barrier level.  As long as the barrier is never touched, the holder owns a standard option, with a certain exercise price $K$.  If the barrier is ever touched, the option dies worthless.\n",
        "\n",
        "The critical concept is if the underlying asset reaches the barrier at any time during the option's life, the option is knocked out, or terminated, and will not come back into existence. It does not matter if the underlying moves back below pre-knock-out levels.\n",
        "\n",
        "*For example, an up-and-out option has a strike price of $80$ and a knock-out price of $100$. At the option's inception, the price of the stock was $75$, but before the option was exercisable, the price of the stock reached $100$. This valuation means the option automatically expires worthless, because it hit or exceeded the barrier level, no matter where the underlying trades before the exercise date.*\n",
        "<br/>\n",
        "<br/>\n",
        "\\begin{align}\n",
        "\\text{Payoff}_{UOB}  =   \\begin{cases} \n",
        "            \\max(S_T - K, 0) \\quad &\\text{if} \\quad S_t > L \\tag{eq 9}\\\\\n",
        "            0 \\quad &\\text{if} \\quad S_t \\leq L   \n",
        "        \\end{cases} \n",
        "\\end{align}"
      ]
    },
    {
      "cell_type": "markdown",
      "metadata": {
        "id": "cNj3h8tqZqws",
        "colab_type": "text"
      },
      "source": [
        "### 3.2 Monte Carlo methodology for ths stock price and the value of the option\n",
        "\n",
        "We define indicator function as:\n",
        "<br/>\n",
        "<br/>\n",
        "\\begin{align}\n",
        "I(\\max(S_t) < L) &= 1 \\quad if \\quad  \\max(S_t < L) \\\\\n",
        "I(S_t < L)  &= 0 \\quad if  \\quad  \\max(S_t  \\geq L)\n",
        "\\end{align}\n",
        "<br/>\n",
        "Where $t$ are discrete, monthly time-steps $t = 1, 2, 3....12$.  \n",
        "<br/> \n",
        "The value of an UOB option, $C_{UOB}$ with payoffs given by equations 9, can be written as^{2, 3, 4, 5, 6, 9, 10}:\n",
        "<br/>\n",
        "<br/>\n",
        "If option does not get knocked out $\\max(S_t) < L$:\n",
        "<br/>\n",
        "<br/>\n",
        "\n",
        "\\begin{align*}\n",
        "C_{UOB}  =  \\exp(-rt ) \\mathbb{E}[I(\\max(S_t) < L)\\;\\;\\max(S_T - K, 0)] \\;  \\tag{eq 10 a}\n",
        "\\end{align*}\n",
        "<br/>\n",
        "\n",
        "If the option gets knocked out $\\max(S_t > L)$:\n",
        "<br/>\n",
        "<br/>\n",
        "\n",
        "\\begin{align*}\n",
        "C_{UOB}= 0 \\tag{eq 10 b}\n",
        "\\end{align*}\n",
        "<br/>\n",
        "   \n",
        "Where $\\mathbb{E}$ denotes the risk neutral expectation.  Since we do not need know actual drifts, but rather, the risk-free rate $r$ (given as $8\\%$) will be utilized. This is also called the risk-neutral or martingale measure."
      ]
    },
    {
      "cell_type": "markdown",
      "metadata": {
        "id": "KvbTHPnEue6c",
        "colab_type": "text"
      },
      "source": [
        "\n",
        "\n",
        "---\n",
        "\n",
        "\n",
        "The above expectation can be obtained by Monte Carlo simulation.  To simulate the value of a an $UOB$ option, the following steps for the algorithm goes as follows:  \n",
        "<br/>\n",
        "  **Step1 :**  Generate monthly stock prices $S_{t_1}$,$S_{t_2}$,....,$S_{t_n = T}$.  If $S_t < K$,\n",
        "     \n",
        "<br/>     \n",
        "   $\n",
        "   \\begin{align*}\n",
        "   C_{UOB}  =  \\exp^{-rT} \\mathbb{E}[\\max(S_T - K, 0)]   \\tag{eq 11}\n",
        "   \\end{align*}\n",
        "   $\n",
        "<br/> \n",
        "The next step shows the mechanics of monthly stock price generation.  \n",
        "<br/>\n",
        "\n",
        "   **Step2 :**  Generate monthly stock prices Repeat Step 1 $N$ times (n_simulation, later on in the code) to obtain; $C_{UOB,t_1}$,$C_{UOB,t_2}$,....,$C_{UOB,t_N}$. \n",
        "Where the value of the $UOB$ is the expectation or the average, $\\bar C_{UOB}$ which is    which is the option price.\n",
        "<br/>\n",
        "<br/>\n",
        "   $\n",
        "   \\begin{align*}\n",
        "   \\bar C_{UOB}  =  \\frac {1} {N} \\sum_{i = 1}^{i = N} C_{UOB,i} \\tag{eq 12}\n",
        "   \\end{align*}\n",
        "   $ \n",
        "<br/>\n",
        "\n",
        "Here the index $i$ is shorthand for $t_i$.  The standard error of the estimator, $S.E_{C_{UOB}}$,  is given by:\n",
        "<br/>\n",
        "<br/>\n",
        "   $\n",
        "   \\begin{align*}\n",
        "   S.E_{C_{UOB}}  = \\sqrt{ \\frac {1} {N(N-1)} \\sum_{i = 1}^{i = N} (C_i - \\bar C)^2 } \\tag{eq 13}\n",
        "   \\end{align*}\n",
        "   $ \n",
        "   "
      ]
    },
    {
      "cell_type": "markdown",
      "metadata": {
        "id": "NJuLVft9oIwR",
        "colab_type": "text"
      },
      "source": [
        "### 3.3 Monte Carlo Methodology for the Counterparty firm asset value--Default Simulation\n",
        "\n",
        "We will use the structural model of Merton to simulate asset values, $A_t$. \n",
        "\n",
        "* In the Merton model, default occurs when the $A_t$, falls below the liabilities $D$ (counterparty debt) at maturity. The liabilities $D_t$ due at maturity, which is $1$ year is $\\$175$.  \n",
        "\n",
        "*  Using *equation (2)*, $A_T$ will be simulated $N$ (n_simulation times).  If  $A_T$ < $D_T$ =$175$, default occurs, and the value    to the counterparty will be Recovery Rate times the Payoff $(\\text{Recovery} \\times \\text{Payoff}_{UOB})$of the derivative, given by *equation (9)*.  \n",
        "\n",
        "\n",
        "*  Let $I^{D}_{A_T < D_T}$ denote an indicator function for default (when the firm asset value is less than the debt obligation    at maturity of the obligation, $T$).  The indicator function is given by:  <br/>\n",
        "\n",
        "   $\n",
        "   \\begin{align*}\n",
        "   I^{D}_{A_T < D_T}      =  1 \\;\\;\\; \\text{when} \\; A_T \\lt D_T \\tag{eq 14}  \n",
        "   \\end{align*}\n",
        "   $\n",
        "<br/>     \n",
        "     \n",
        "*  Also, let $I^{ND}_{A_T \\geq D_T}$ denote an indicator function for no-default (when the firm asset value is larger than the      debt obligation at maturity of the obligation, T).  The indicator function is given by:   \n",
        "\n",
        "   $\n",
        "   \\begin{align*}\n",
        "   I^{ND}_{A_T \\geq D_T}  =  1 \\;\\;\\; \\text{when} \\; A_T \\geq D_T \\tag{eq 15} \n",
        "   \\end{align*}\n",
        "   $  \n",
        "<br/>   \n",
        "   \n",
        "   \n",
        "*   The price of a credit-risky $UOB$ option, $\\bar C^{R}_{UOB}$  (here superscrpt R denotes \"Risky\")\n",
        "<br/>   \n",
        "   \n",
        "   $\n",
        "   \\begin{align*}\n",
        "   C^{R}_{UOB}  =  \\exp(-rT) \\mathbb{E}[\\text{Payoff} \\; \\; (I^{ND}_{A_T \\geq D_T} + \\text{Recovery} *I^{D}_{A_T < D_T})   ] \\tag{eq 16}\n",
        "   \\end{align*}\n",
        "   $   \n",
        "   \n",
        "Where $\\mathbb{E}$ denotes the risk neutral expectation, Recovery indicates the recovery rate with the counterparty$(25\\%)$.  The Payoff is the payoff of the derivative, i.e., the $UOB$ call option, *equation 9*. \n",
        "<br/>\n",
        "*  The $CVA$ (Credit Value Adjustment) is defined as the **difference between the risk-free and the risky value of the UBO option--**  ***equation (8) - equation (13)***.  Another way to think about it is that it is the \"Expected Loss\" arising from future counterparty default $^{3,4,15,22}$ .\n",
        "<br/>\n",
        "    $\n",
        "   \\begin{align*}\n",
        "    CVA_i \\; = \\; (1 - \\text{Recovery}) \\; \\exp(-rT)\\; \\; [\\text{Payoff}_i] \\; \\text{if} \\; A_T \\lt D_T \\tag{eq 17}\n",
        "    \\end{align*}\n",
        "   $  \n",
        "   \n",
        "   where $\\text{Payoff}[i]$ represents the Payoff for the ith simulation is given by *equation 9*).  If no default occurs in the ith simulation, $CVA[i] = 0$."
      ]
    },
    {
      "cell_type": "markdown",
      "metadata": {
        "id": "oXfz7qajwBSY",
        "colab_type": "text"
      },
      "source": [
        "### 3.4 Joint simulation of stock price movement and default simulation by Cholesky-decomposing the Correlation matrix\n",
        "\n",
        "The random variables $A_t$ and $S_t$ are correlated. Hence, the Weiner process used in the simulations should reflect that feature. i.e., if the correlation is high, the prices changes move similarly, as opposed to independently.\n",
        "\n",
        "The Monte Carlo simulation of correlated Brownian motions requires the generation of correlated normal random numbers. To create these random variables one usually makes use of a Gaussian Copula approach thet benefits from the **Choleski decomposition of the Correlation matrix**.  This method is often chosen due to its enhanced performance compared to other decomposition techniques.  A brief review is given here, more details can be found in the highlighted references.$^{9, 16, 14, 18, 17, 20, 11} $\n",
        "\n",
        "The Cholesky decomposition of a symmetric positive definite matrix M is given by \n",
        "\n",
        "$\n",
        "   \\begin{align*}\n",
        "   M = LL^{T} \\tag{eq 18}\n",
        "   \\end{align*}\n",
        "$\n",
        "\n",
        "where $L$ is a lower triangular matrix and $L^{T}$ is its conjugate transpose.  If we considere M as the correlation matrix characterizing our ransom process, and u is a vector of uncorrelated Gaussian random numbers, the matrix product Lu produces a vector of Gaussian random numbers with correlation described by M.\n",
        "\n",
        "As shown in Section 2, the  stock price  $S_t$  and the counterparty firm asset value  $A_t$  are assumed to be governed by Geometric Brownian Motion (GBM) processes. The joint process is multivariate normal with a correlation  $\\rho$ , which is given by a constant value of $.2$. The correlation matrix for this bivariate process is:\n",
        "\n",
        "   $$  \n",
        "   \\begin{bmatrix}\n",
        "    1 & \\rho \\\\ \\rho & 1 \\tag{eq 18}                \n",
        "    \\end{bmatrix}\n",
        "   $$\n",
        "and the lower triangular matrix, $L$,  given by its Cholesky decomposition is [ [$1$ $0$], [$ \\rho \\sqrt{1 - \\rho^{2}}$] ], a $2 x 2 $ matrix.\n",
        "\n",
        "If we had at our disposal two uncorrelated random numbers $Z_1$ and $Y_1$ with normal distribution $N(0,1)$, then by computing the product of L and the vector [$Z_1$ $Y_1$], we can transform them into two correlated (with correlation $\\rho$) random numbers $X_1$ and $X_2$ given by\n",
        "\n",
        "   $  \n",
        "   \\begin{align*}\n",
        "    X_{1} = Z_{1} \\tag{eq 19}                \n",
        "    \\end{align*}\n",
        "   $\n",
        "    $  \n",
        "   \\begin{align*}\n",
        "    X_{2} = Z_{1} \\rho + Y_{1} \\sqrt{1-\\rho^{2}} \\tag{eq 20}                \n",
        "    \\end{align*}\n",
        "   $\n",
        "   \n"
      ]
    },
    {
      "cell_type": "markdown",
      "metadata": {
        "id": "YZAId1FMt_DB",
        "colab_type": "text"
      },
      "source": [
        "### 3.5 Implementation of joint simulation via numerical solution of Stochastic differential equations (SDEs) \n",
        "\n",
        "The GBM equations (1) and (2) afford an exact solution for the SDE, which can be discretized and is given by\n",
        "\n",
        "$\n",
        "\\begin{align*}\n",
        "S(t + dt) = S(t) \\, exp^{(\\alpha_S - .5 \\sigma_S^2)dt + \\, W_S \\, \\sigma_S  \\sqrt{dt})} \\tag{eq 21}\n",
        "\\end{align*} \n",
        "$\n",
        "$\n",
        "\\begin{align*}\n",
        "A(t + dt) = A(t) \\, exp^{(\\alpha_A - .5 \\sigma_A^2)dt + \\, W_A \\, \\sigma_A \\sqrt{dt})} \\tag{eq 22} \n",
        "\\end{align*} \n",
        "$\n",
        "\n",
        "where dt is the time step, and the other parameters are defined after eq(1) and eq(2).  Note, the relationship between the Weiner normal random variables $W_S$ and $W_A$ is given by eq(19) and is\n",
        "\n",
        "$  \n",
        "\\begin{align*}\n",
        "W_{A} =  \\rho W_S + W_{1} \\sqrt{1-\\rho^{2}} \\tag{eq 23}                \n",
        "\\end{align*}\n",
        "$\n",
        "\n",
        "where $W_1$ is another Weiner normal random variable.  In the Python we will be utilizing the above equations."
      ]
    },
    {
      "cell_type": "markdown",
      "metadata": {
        "id": "JXZwvJcxuHQX",
        "colab_type": "text"
      },
      "source": [
        "## 4.  Program Structure:\n",
        "\n",
        "An industrial solution to a problem of this nature would consist of building various classes for parameter input, payoffs, simulation engine, results, etc.;  in this notebook, for ease of tranparency, and aligning to the Tasks required, the flow of the project will consist of five functions, and intermittent code calling on these functions to undertake specific tasks.  These functions are:\n",
        "\n",
        "(1) bsCall -  Price of a regular European Call option.  Used for relative comparison purposes (The European barrier call option has to be cheaper than a European call option with the same parameters.\n",
        "(2) up_and_out_call_analytical - This gives the price of a discretely priced barrier option.  \n",
        "(3) up-and-out-call - This outputs the price and standard error of a default-free, European up-and-out call.\n",
        "(4) up-and-out-call_risky - This outputs the price and Standard error of default-free and risky options, as well as the $ CVA$.\n",
        "\n",
        "The code will have copious comments to help the reader.  References will be made to the above theory and implementation sections, as well as external publications."
      ]
    },
    {
      "cell_type": "markdown",
      "metadata": {
        "id": "X8sx9asJv_Sc",
        "colab_type": "text"
      },
      "source": [
        "## Conclusion"
      ]
    },
    {
      "cell_type": "markdown",
      "metadata": {
        "id": "9CHF-SNteCmM",
        "colab_type": "text"
      },
      "source": [
        "## References\n",
        "\n",
        "[1] P. Boyle, M. Broadie, and P. Glasserman (1997). **Monte Carlo Methods for Security Pricing**,\n",
        "    Journal of Economic Dynamics and Control 21, 1267–1321.\n",
        "\n",
        "[2] C. Bluhm, L. Overbeck, and C. Wagner (2010). **Introduction to Credit Risk Modeling**: Second Edition,\n",
        "    Chapman & Hall / CRC financial mathematics series, Boca Raton.\n",
        "    \n",
        "[3] E. Canabarro (2010).  **Counterparty Credit Risk**,  Risk Books, London.  \n",
        "\n",
        "[4] E. Canabarro and D. Duffie.  **Counterparty Risk Management**,  Risk Books, London.\n",
        "\n",
        "[5] L. Clewlow and C. Strickland (eds.) (1997). **Exotic Options: The State of the Art**, International\n",
        "    Thomson Business Press, London. \n",
        "\n",
        "[6] L. Clewlow and C. Strickland (eds.) (1998). **Implementing Derivatives Models**, John Wiley &\n",
        "    Sons, Chichester.\n",
        "\n",
        "[7] D. Duffie and P. Glynn (1995). **Efficient Monte Carlo Simulation of Security Prices**, Annals of\n",
        "    Applied Probability 5, 897–905.\n",
        "\n",
        "[8] B. Dupire (1998). **Monte Carlo:methodologies and applications for pricing and risk management**, Risk Books, London.\n",
        "\n",
        "[9] P. Glasserman (2003). **Monte Carlo methods in financial engineering**, Springer-Verlag. \n",
        "\n",
        "[10] P. Glasserman and J. Li (2005). **Importance sampling for portfolio credit risk. Management Science**, 51\n",
        "     (11):1643–1656.\n",
        "\n",
        "[11] P. W. Glynn (1996). **Importance sampling for Monte Carlo estimation of quantiles**, In Proceedings of\n",
        "     the Second International Workshop on Mathematical Methods in Stochastic Simulation and\n",
        "     Experimental Design, pages 180–185.\n",
        "\n",
        "[12] J. Gregory (2015).  **The xVA Challenge:  Counterparty Credit Risk, Funding, Collateral**, John Wiley & Sons.\n",
        "\n",
        "[13] J. Gregory (2010).  **Counterparty Credit Risk:  The new challenge for global financial markets**, John Wiley & Sons\n",
        "\n",
        "[14] P. Jaeckel (2002). **Monte Carlo methods in finance**, John Wiley and Sons. \n",
        "\n",
        "[15] C. Kenyon and R. Stamm (2012).  **Discounting, Libor, CVA and Funding:  Interest Rate and Credit Pricing**, Palgrave,            Macmillian. \n",
        "\n",
        "[16] G. Loffler and P. N. Posch (2011).  **Credit Risk Modeling**, John Wiley & Sons. \n",
        "\n",
        "[16] D. L. McLeish (2005). **Monte Carlo Simulation & Finance**, John Wiley & Sons.\n",
        "\n",
        "[17] C. P. Robert, G. Casella (2004). **Monte Carlo Statistical Methods**, Second Edition.  Springer.\n",
        "\n",
        "[18] S. M. Ross (2006), **Simulation**, Elsevier, Singapore.\n",
        "\n",
        "[19] I. Ruiz (2015).  **XVA Desks:  A New Era for Risk Management**, John Wiley & Sons. \n",
        "\n",
        "[20] R. Y. Rubinstein, **Simulation and the Monte Carlo Method**, John Wiley & Sons, New\n",
        "     York, 1981. \n",
        "\n",
        "[21] P. J. Schonbucher (2003).  **Credit Derivatives Pricing Models:  Models, Pricing and Implementation**, John Wiley & Sons.\n",
        "\n",
        "[22] J. Witzany (2017).  **Credit Risk Management: Pricing, Measurement, and Modeling**, Springer.\n"
      ]
    },
    {
      "cell_type": "code",
      "metadata": {
        "id": "OHZ1RNvCY3ro",
        "colab_type": "code",
        "colab": {}
      },
      "source": [
        "# Inputs for our model\n",
        "\n",
        "s0 = 100 # Current share price\n",
        "a0 = 275# Initial Asset value, derived in Section 2.2 equation 3\n",
        "D = 175 # Counterparty’s debt, due in one year\n",
        "k = 100. # exercise price\n",
        "l = 150 #Up-and-out barrier for the option\n",
        "T = 1 # Maturity of the option is in a year’s time  \n",
        "r = 0.08 # Risk-free continuously compounded interest rate \n",
        "Recovery = 0.25 #Recovery rate with the counterparty\n",
        "sigmaS= 0.30 # Volatility (annualized) for the underlying\n",
        "sigmaA = 0.25 # Volatility (annualized) for the counterparty’s firm value\n",
        "corr = 0.2 # Correlation between the counterparty and the stock\n",
        "#n_simulation= # Variable, number of simulations, defined in the main function"
      ],
      "execution_count": 0,
      "outputs": []
    },
    {
      "cell_type": "code",
      "metadata": {
        "id": "fRWKoT62MfQr",
        "colab_type": "code",
        "colab": {}
      },
      "source": [
        "# We first import modules\n",
        "#Import modules\n",
        "import numpy as np\n",
        "import pandas as pd\n",
        "from scipy.stats import norm, uniform\n",
        "import matplotlib.pyplot as plt\n",
        "import random\n",
        "import math"
      ],
      "execution_count": 0,
      "outputs": []
    },
    {
      "cell_type": "code",
      "metadata": {
        "id": "bhjnNMPNeD1d",
        "colab_type": "code",
        "colab": {}
      },
      "source": [
        ""
      ],
      "execution_count": 0,
      "outputs": []
    }
  ]
}