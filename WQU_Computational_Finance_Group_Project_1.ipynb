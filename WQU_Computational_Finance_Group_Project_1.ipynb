{
  "nbformat": 4,
  "nbformat_minor": 0,
  "metadata": {
    "colab": {
      "name": "WQU Computational Finance Group Project 1.ipynb",
      "version": "0.3.2",
      "provenance": [],
      "collapsed_sections": [],
      "include_colab_link": true
    },
    "kernelspec": {
      "name": "python3",
      "display_name": "Python 3"
    }
  },
  "cells": [
    {
      "cell_type": "markdown",
      "metadata": {
        "id": "view-in-github",
        "colab_type": "text"
      },
      "source": [
        "<a href=\"https://colab.research.google.com/github/jwang1218/Backtesting/blob/master/WQU_Computational_Finance_Group_Project_1.ipynb\" target=\"_parent\"><img src=\"https://colab.research.google.com/assets/colab-badge.svg\" alt=\"Open In Colab\"/></a>"
      ]
    },
    {
      "cell_type": "markdown",
      "metadata": {
        "id": "3X988tjzNF7A",
        "colab_type": "text"
      },
      "source": [
        "# WQU MScFE 630 Computational Finance (19/09) \n",
        "### Group Project 1: Pricing European up-and-out call option with risky counterpart\n"
      ]
    },
    {
      "cell_type": "markdown",
      "metadata": {
        "id": "eaC-_Cvu8R0m",
        "colab_type": "text"
      },
      "source": [
        "## Abstract"
      ]
    },
    {
      "cell_type": "markdown",
      "metadata": {
        "id": "z60fxwXF8NUI",
        "colab_type": "text"
      },
      "source": [
        "## Introduction"
      ]
    },
    {
      "cell_type": "code",
      "metadata": {
        "id": "fRWKoT62MfQr",
        "colab_type": "code",
        "colab": {}
      },
      "source": [
        "# We first import modules\n",
        "#Import modules\n",
        "import numpy as np\n",
        "import pandas as pd\n",
        "from scipy.stats import norm, uniform\n",
        "import matplotlib.pyplot as plt\n",
        "import random\n",
        "import math"
      ],
      "execution_count": 0,
      "outputs": []
    },
    {
      "cell_type": "markdown",
      "metadata": {
        "id": "_TZG5SFH8L1v",
        "colab_type": "text"
      },
      "source": [
        "### European up-and-out call option\n",
        "\n",
        "A European up-and-out call option is a knock-out barrier options are options that are created or cease to exist when the price of the underlying asset reaches or violates a predefined price level within a certain period of time. Knock-in options come into existence when the price of the underlying asset reaches or breaches a specific price level, while the cease-out options (ie are eliminated) when the asset price reaches or violates a price level . The fundamental reason for using these types of options is to reduce the cost of hedging or speculation.(Marek Musiela, and Marek Rutkowski)\n",
        "\n",
        "![Barrier Option](https://drive.google.com/uc?id=1raQenR5yQFqjk0Kfs1FnGmSUYKykA5h0)\n",
        "\n",
        "\n",
        "Payoff of a European up-and-out call option:\n",
        "\n",
        "\\begin{equation}\n",
        "v(S_T) = (S_T-K)^+ \\quad given \\quad max(S-t)_{{t \\in [0,T]}} < L\n",
        "\\end{equation}"
      ]
    },
    {
      "cell_type": "markdown",
      "metadata": {
        "id": "UznLBYyQka7O",
        "colab_type": "text"
      },
      "source": [
        "\n"
      ]
    },
    {
      "cell_type": "markdown",
      "metadata": {
        "id": "HjBO3HOv79Yw",
        "colab_type": "text"
      },
      "source": [
        "### Assumptions of Black-Sholes-Merton model assuming that both the stock and counterparty firm values follow Geometric Brownian Motion with constant drift and volatilities, and default occuring at maturity.\n",
        "\n",
        "\n",
        "\n",
        "* Maturity of the option is in a year’s time  $T= 1$\n",
        "* Option is struck at-the-money \n",
        "* Up-and-out barrier for the option  $ H = 150$\n",
        "* Current share price is $S_0 = 100 $\n",
        "* Risk-free continuously compounded interest rate $ r =0.08$\n",
        "* Volatility for the underlying $\\sigma_S = 0.30$\n",
        "* Volatility for the counterparty’s firm value is $\\sigma_{cp} = 0.25$ \n",
        "* Counterparty’s debt, due in one year, is $175 \n",
        "* Correlation between the counterparty and the stock is constant at 0.2 \n",
        "* Recovery rate with the counterparty is 25%. "
      ]
    },
    {
      "cell_type": "markdown",
      "metadata": {
        "id": "e8Iq592Z6YvJ",
        "colab_type": "text"
      },
      "source": [
        "## Part 1: Monte Carlo Simulation to Price a European up-and-out call option with a risky counterpart"
      ]
    },
    {
      "cell_type": "code",
      "metadata": {
        "id": "DDacGKucMcOT",
        "colab_type": "code",
        "colab": {}
      },
      "source": [
        ""
      ],
      "execution_count": 0,
      "outputs": []
    },
    {
      "cell_type": "markdown",
      "metadata": {
        "id": "XTG5LqTa6z7I",
        "colab_type": "text"
      },
      "source": [
        "## Monte Carlo Estimates of both default-free option value and Credit Valuation Adjustment (CVA)\n"
      ]
    },
    {
      "cell_type": "code",
      "metadata": {
        "id": "U9DBIq577DDa",
        "colab_type": "code",
        "colab": {}
      },
      "source": [
        ""
      ],
      "execution_count": 0,
      "outputs": []
    },
    {
      "cell_type": "markdown",
      "metadata": {
        "id": "Iv5A_a157D4i",
        "colab_type": "text"
      },
      "source": [
        "## Monte Carlo estimates of a  European up-and-out call option with a counterparty risk\n",
        "\n",
        "\n",
        "\n"
      ]
    },
    {
      "cell_type": "code",
      "metadata": {
        "id": "ROidtCau7eyG",
        "colab_type": "code",
        "colab": {}
      },
      "source": [
        ""
      ],
      "execution_count": 0,
      "outputs": []
    },
    {
      "cell_type": "markdown",
      "metadata": {
        "id": "9CHF-SNteCmM",
        "colab_type": "text"
      },
      "source": [
        "## References\n",
        "\n",
        "1.   Marek Musiela, and Marek Rutkowski. Martingale Methods in Financial Modelling. Berlin, Springer-Verlag Berlin And Heidelberg Gmbh \\& Co. K, 2010\n",
        "2.   List item\n",
        "3. \n",
        "\n"
      ]
    },
    {
      "cell_type": "code",
      "metadata": {
        "id": "bhjnNMPNeD1d",
        "colab_type": "code",
        "colab": {}
      },
      "source": [
        ""
      ],
      "execution_count": 0,
      "outputs": []
    }
  ]
}